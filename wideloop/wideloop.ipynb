{
 "cells": [
  {
   "cell_type": "code",
   "execution_count": 133,
   "metadata": {},
   "outputs": [],
   "source": [
    "#Import an Read\n",
    "\n",
    "import pandas as pd\n",
    "df = pd.read_csv()\n",
    "\n",
    "#Dictionary\n",
    "\n",
    "dict = {}\n",
    "\n",
    "#Wideloop function for 'long' data\n",
    "#wideloop(dataframe,index,columns,values,selector,dictionaryname)\n",
    "#wideloop(a,b,c,d,e)\n",
    "#a - dataframe: Pandas data frame\n",
    "#b - index: Descriptors (Year, Month, Day etc.)\n",
    "#c - columns: Single column becomes multiple columns for each value\n",
    "#d - values: Values for the columns\n",
    "#e - dictionaryname: Dictionary name\n",
    "\n",
    "def wideloop(dataframe,index,columns,values,selector,dictionaryname):\n",
    "    df_pivot = (dataframe.pivot(index=index,columns=columns,values=values)\n",
    "         .sort_index(level=[1,0]))\n",
    "    df_pivot.reset_index(inplace=True)\n",
    "    selectors= list(df_pivot[selector].unique())\n",
    "    for i in selectors:\n",
    "        dictionaryname[i] = pd.DataFrame(df_pivot.loc[df_pivot[selector] ==  i ])\n",
    "\n",
    "#dict[''] will procuce the dataframe for selected in quotes "
   ]
  }
 ],
 "metadata": {
  "kernelspec": {
   "display_name": "Python 3",
   "language": "python",
   "name": "python3"
  },
  "language_info": {
   "codemirror_mode": {
    "name": "ipython",
    "version": 3
   },
   "file_extension": ".py",
   "mimetype": "text/x-python",
   "name": "python",
   "nbconvert_exporter": "python",
   "pygments_lexer": "ipython3",
   "version": "3.11.3"
  },
  "orig_nbformat": 4
 },
 "nbformat": 4,
 "nbformat_minor": 2
}
